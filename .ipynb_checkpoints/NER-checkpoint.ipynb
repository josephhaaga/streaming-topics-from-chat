{
 "cells": [
  {
   "cell_type": "code",
   "execution_count": 34,
   "metadata": {},
   "outputs": [],
   "source": [
    "from nltk import word_tokenize, pos_tag, RegexpParser, ne_chunk, tree"
   ]
  },
  {
   "cell_type": "code",
   "execution_count": 69,
   "metadata": {},
   "outputs": [],
   "source": [
    "sent = \"I spent five years studying Computer Science at The George Washington University's School of Engineering & Applied Sciences.\"\n",
    "entities = {}"
   ]
  },
  {
   "cell_type": "code",
   "execution_count": 3,
   "metadata": {},
   "outputs": [],
   "source": [
    "# # Lemmatize to resolve contractions - https://stackoverflow.com/a/19790512\n",
    "# from nltk.stem import PorterStemmer\n",
    "# p = PorterStemmer()"
   ]
  },
  {
   "cell_type": "code",
   "execution_count": 70,
   "metadata": {},
   "outputs": [
    {
     "data": {
      "text/plain": [
       "[('I', 'PRP'),\n",
       " ('spent', 'VBD'),\n",
       " ('five', 'CD'),\n",
       " ('years', 'NNS'),\n",
       " ('studying', 'VBG'),\n",
       " ('Computer', 'NNP'),\n",
       " ('Science', 'NN'),\n",
       " ('at', 'IN'),\n",
       " ('The', 'DT'),\n",
       " ('George', 'NNP'),\n",
       " ('Washington', 'NNP'),\n",
       " ('University', 'NNP'),\n",
       " (\"'s\", 'POS'),\n",
       " ('School', 'NNP'),\n",
       " ('of', 'IN'),\n",
       " ('Engineering', 'NNP'),\n",
       " ('&', 'CC'),\n",
       " ('Applied', 'NNP'),\n",
       " ('Sciences', 'NNPS'),\n",
       " ('.', '.')]"
      ]
     },
     "execution_count": 70,
     "metadata": {},
     "output_type": "execute_result"
    }
   ],
   "source": [
    "# Tokenize the sentence and perform Part of Speech tagging\n",
    "\n",
    "pos_tagged_tokens = pos_tag(word_tokenize(sent))\n",
    "pos_tagged_tokens"
   ]
  },
  {
   "cell_type": "code",
   "execution_count": 71,
   "metadata": {},
   "outputs": [
    {
     "name": "stdout",
     "output_type": "stream",
     "text": [
      "(S\n",
      "  I/PRP\n",
      "  spent/VBD\n",
      "  five/CD\n",
      "  years/NNS\n",
      "  studying/VBG\n",
      "  Computer/NNP\n",
      "  (NP Science/NN)\n",
      "  at/IN\n",
      "  The/DT\n",
      "  George/NNP\n",
      "  Washington/NNP\n",
      "  University/NNP\n",
      "  's/POS\n",
      "  School/NNP\n",
      "  of/IN\n",
      "  Engineering/NNP\n",
      "  &/CC\n",
      "  Applied/NNP\n",
      "  Sciences/NNPS\n",
      "  ./.)\n"
     ]
    }
   ],
   "source": [
    "# \"Chunk\" the tokens into larger sequences - http://www.nltk.org/book/ch07.html\n",
    "\n",
    "grammar = \"NP: {<DT>?<JJ>*<NN>}\"\n",
    "cp = RegexpParser(grammar)\n",
    "result = cp.parse(pos_tagged_tokens)\n",
    "print(result)"
   ]
  },
  {
   "cell_type": "code",
   "execution_count": 90,
   "metadata": {},
   "outputs": [],
   "source": [
    "chunk_tree = ne_chunk(pos_tagged_tokens)"
   ]
  },
  {
   "cell_type": "code",
   "execution_count": 81,
   "metadata": {},
   "outputs": [
    {
     "data": {
      "text/plain": [
       "['ORGANIZATION', 'FACILITY', 'ORGANIZATION', 'ORGANIZATION']"
      ]
     },
     "execution_count": 81,
     "metadata": {},
     "output_type": "execute_result"
    }
   ],
   "source": [
    "entities = [x for x in chunk_tree if type(x) == tree.Tree]\n",
    "\n",
    "[a.label() for a in entities]"
   ]
  },
  {
   "cell_type": "code",
   "execution_count": 88,
   "metadata": {},
   "outputs": [],
   "source": [
    "entities_by_label = {}\n",
    "for entity in entities:\n",
    "    entity_type = entity.label()\n",
    "    if entity_type not in entities_by_label:\n",
    "        entities_by_label[entity_type] = []\n",
    "    entities_by_label[entity_type] += [entity]"
   ]
  },
  {
   "cell_type": "code",
   "execution_count": 89,
   "metadata": {},
   "outputs": [
    {
     "data": {
      "text/plain": [
       "{'ORGANIZATION': [Tree('ORGANIZATION', [('Computer', 'NNP'), ('Science', 'NN')]),\n",
       "  Tree('ORGANIZATION', [('School', 'NNP')]),\n",
       "  Tree('ORGANIZATION', [('Applied', 'NNP'), ('Sciences', 'NNPS')])],\n",
       " 'FACILITY': [Tree('FACILITY', [('The', 'DT'), ('George', 'NNP'), ('Washington', 'NNP'), ('University', 'NNP')])]}"
      ]
     },
     "execution_count": 89,
     "metadata": {},
     "output_type": "execute_result"
    }
   ],
   "source": [
    "entities_by_label"
   ]
  }
 ],
 "metadata": {
  "kernelspec": {
   "display_name": "Python 3",
   "language": "python",
   "name": "python3"
  },
  "language_info": {
   "codemirror_mode": {
    "name": "ipython",
    "version": 3
   },
   "file_extension": ".py",
   "mimetype": "text/x-python",
   "name": "python",
   "nbconvert_exporter": "python",
   "pygments_lexer": "ipython3",
   "version": "3.7.6"
  }
 },
 "nbformat": 4,
 "nbformat_minor": 4
}
