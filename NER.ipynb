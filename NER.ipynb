{
 "cells": [
  {
   "cell_type": "code",
   "execution_count": 16,
   "metadata": {},
   "outputs": [],
   "source": [
    "from nltk import word_tokenize, pos_tag, RegexpParser"
   ]
  },
  {
   "cell_type": "code",
   "execution_count": 39,
   "metadata": {},
   "outputs": [],
   "source": [
    "sent = \"I spent five years studying Computer Science at The George Washington University.\""
   ]
  },
  {
   "cell_type": "code",
   "execution_count": 23,
   "metadata": {},
   "outputs": [],
   "source": [
    "# # Lemmatize to resolve contractions - https://stackoverflow.com/a/19790512\n",
    "# from nltk.stem import PorterStemmer\n",
    "# p = PorterStemmer()"
   ]
  },
  {
   "cell_type": "code",
   "execution_count": 40,
   "metadata": {},
   "outputs": [
    {
     "data": {
      "text/plain": [
       "[('I', 'PRP'),\n",
       " ('spent', 'VBD'),\n",
       " ('five', 'CD'),\n",
       " ('years', 'NNS'),\n",
       " ('studying', 'VBG'),\n",
       " ('Computer', 'NNP'),\n",
       " ('Science', 'NN'),\n",
       " ('at', 'IN'),\n",
       " ('The', 'DT'),\n",
       " ('George', 'NNP'),\n",
       " ('Washington', 'NNP'),\n",
       " ('University', 'NNP'),\n",
       " ('.', '.')]"
      ]
     },
     "execution_count": 40,
     "metadata": {},
     "output_type": "execute_result"
    }
   ],
   "source": [
    "# Tokenize the sentence and perform Part of Speech tagging\n",
    "\n",
    "pos_tagged_tokens = pos_tag(word_tokenize(sent))\n",
    "pos_tagged_tokens"
   ]
  },
  {
   "cell_type": "code",
   "execution_count": 36,
   "metadata": {},
   "outputs": [
    {
     "name": "stdout",
     "output_type": "stream",
     "text": [
      "(S\n",
      "  I/PRP\n",
      "  spent/VBD\n",
      "  five/CD\n",
      "  years/NNS\n",
      "  studying/VBG\n",
      "  Computer/NNP\n",
      "  (NP Science/NN)\n",
      "  at/IN\n",
      "  the/DT\n",
      "  George/NNP\n",
      "  Washington/NNP\n",
      "  University/NNP\n",
      "  ./.)\n"
     ]
    }
   ],
   "source": [
    "# \"Chunk\" the tokens into larger sequences - http://www.nltk.org/book/ch07.html\n",
    "\n",
    "grammar = \"NP: {<DT>?<JJ>*<NN>}\"\n",
    "cp = RegexpParser(grammar)\n",
    "result = cp.parse(pos_tagged_tokens)\n",
    "print(result)"
   ]
  },
  {
   "cell_type": "code",
   "execution_count": 41,
   "metadata": {},
   "outputs": [
    {
     "data": {
      "image/png": "[encoded data removed]",
      "text/plain": [
       "Tree('S', [('I', 'PRP'), ('spent', 'VBD'), ('five', 'CD'), ('years', 'NNS'), ('studying', 'VBG'), Tree('ORGANIZATION', [('Computer', 'NNP'), ('Science', 'NN')]), ('at', 'IN'), Tree('FACILITY', [('The', 'DT'), ('George', 'NNP'), ('Washington', 'NNP'), ('University', 'NNP')]), ('.', '.')])"
      ]
     },
     "execution_count": 41,
     "metadata": {},
     "output_type": "execute_result"
    }
   ],
   "source": [
    "nltk.ne_chunk(pos_tagged_tokens)"
   ]
  }
 ],
 "metadata": {
  "kernelspec": {
   "display_name": "Python 3",
   "language": "python",
   "name": "python3"
  },
  "language_info": {
   "codemirror_mode": {
    "name": "ipython",
    "version": 3
   },
   "file_extension": ".py",
   "mimetype": "text/x-python",
   "name": "python",
   "nbconvert_exporter": "python",
   "pygments_lexer": "ipython3",
   "version": "3.7.6"
  }
 },
 "nbformat": 4,
 "nbformat_minor": 4
}
